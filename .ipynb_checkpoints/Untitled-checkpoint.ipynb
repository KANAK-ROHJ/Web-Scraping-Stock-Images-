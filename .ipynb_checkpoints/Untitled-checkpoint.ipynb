{
 "cells": [
  {
   "cell_type": "code",
   "execution_count": 1,
   "id": "40e7c27a",
   "metadata": {},
   "outputs": [],
   "source": [
    "from selenium import webdriver\n",
    "from bs4 import BeautifulSoup\n",
    "from tqdm import tqdm\n",
    "import os\n",
    "import pandas as pd\n",
    "import time\n",
    "import requests"
   ]
  },
  {
   "cell_type": "code",
   "execution_count": 3,
   "id": "b69f2984",
   "metadata": {},
   "outputs": [],
   "source": [
    "link='https://stockmages.netlify.app'\n",
    "browser=webdriver.Chrome()\n",
    "browser.get(link)"
   ]
  },
  {
   "cell_type": "code",
   "execution_count": 41,
   "id": "c1fa58d9",
   "metadata": {},
   "outputs": [
    {
     "name": "stderr",
     "output_type": "stream",
     "text": [
      "100%|██████████| 50/50 [00:02<00:00, 16.90it/s]\n"
     ]
    }
   ],
   "source": [
    "for i in tqdm(range(0,50000,1000)):\n",
    "    browser.execute_script('window.scrollTo(0,'+str(i)+')')\n",
    "    time.sleep(.05)"
   ]
  },
  {
   "cell_type": "code",
   "execution_count": 42,
   "id": "4c01fac2",
   "metadata": {},
   "outputs": [],
   "source": [
    "soup=BeautifulSoup(browser.page_source,'html.parser')"
   ]
  },
  {
   "cell_type": "code",
   "execution_count": 43,
   "id": "c44c4a23",
   "metadata": {},
   "outputs": [
    {
     "data": {
      "text/plain": [
       "196"
      ]
     },
     "execution_count": 43,
     "metadata": {},
     "output_type": "execute_result"
    }
   ],
   "source": [
    "len(soup.find_all('div',class_='container'))"
   ]
  },
  {
   "cell_type": "code",
   "execution_count": 63,
   "id": "db43ad54",
   "metadata": {},
   "outputs": [
    {
     "name": "stderr",
     "output_type": "stream",
     "text": [
      "100%|██████████| 196/196 [00:00<00:00, 5632.68it/s]\n"
     ]
    }
   ],
   "source": [
    "data=[]\n",
    "for sp in tqdm(soup.find_all('div',class_='container')):\n",
    "    link=sp.find('img').get('src')\n",
    "    tags=sp.find('span',class_='tag-color').text[7:].strip()\n",
    "    likes=sp.find('div',class_='likes-comments').find_all('span')[0].text.strip()[:-6]\n",
    "    comments=sp.find('div',class_='likes-comments').find_all('span')[1].text.strip()[:-9]\n",
    "    data.append([link,tags,likes,comments])"
   ]
  },
  {
   "cell_type": "code",
   "execution_count": 66,
   "id": "d3409647",
   "metadata": {},
   "outputs": [],
   "source": [
    "df=pd.DataFrame(data,columns=['Link','Tags','Likes','Comments'])"
   ]
  },
  {
   "cell_type": "code",
   "execution_count": 67,
   "id": "36453b97",
   "metadata": {},
   "outputs": [
    {
     "data": {
      "text/html": [
       "<div>\n",
       "<style scoped>\n",
       "    .dataframe tbody tr th:only-of-type {\n",
       "        vertical-align: middle;\n",
       "    }\n",
       "\n",
       "    .dataframe tbody tr th {\n",
       "        vertical-align: top;\n",
       "    }\n",
       "\n",
       "    .dataframe thead th {\n",
       "        text-align: right;\n",
       "    }\n",
       "</style>\n",
       "<table border=\"1\" class=\"dataframe\">\n",
       "  <thead>\n",
       "    <tr style=\"text-align: right;\">\n",
       "      <th></th>\n",
       "      <th>Link</th>\n",
       "      <th>Tags</th>\n",
       "      <th>Likes</th>\n",
       "      <th>Comments</th>\n",
       "    </tr>\n",
       "  </thead>\n",
       "  <tbody>\n",
       "    <tr>\n",
       "      <th>0</th>\n",
       "      <td>https://cdn.pixabay.com/photo/2022/03/06/05/30...</td>\n",
       "      <td>Clouds, Sky, Atmosphere, Blue Sky</td>\n",
       "      <td>196</td>\n",
       "      <td>55</td>\n",
       "    </tr>\n",
       "    <tr>\n",
       "      <th>1</th>\n",
       "      <td>https://cdn.pixabay.com/photo/2022/04/07/11/45...</td>\n",
       "      <td>Bird, Ornithology, Hummingbird</td>\n",
       "      <td>76</td>\n",
       "      <td>20</td>\n",
       "    </tr>\n",
       "    <tr>\n",
       "      <th>2</th>\n",
       "      <td>https://cdn.pixabay.com/photo/2022/02/28/15/28...</td>\n",
       "      <td>Sea, Rainbow, Rainfall, Subtropical</td>\n",
       "      <td>282</td>\n",
       "      <td>106</td>\n",
       "    </tr>\n",
       "    <tr>\n",
       "      <th>3</th>\n",
       "      <td>https://cdn.pixabay.com/photo/2022/04/04/02/52...</td>\n",
       "      <td>Cherry Blossoms, Road, Japan, Sakura</td>\n",
       "      <td>42</td>\n",
       "      <td>11</td>\n",
       "    </tr>\n",
       "    <tr>\n",
       "      <th>4</th>\n",
       "      <td>https://cdn.pixabay.com/photo/2022/04/09/18/06...</td>\n",
       "      <td>Cape Marguerite, Flower, Plant</td>\n",
       "      <td>39</td>\n",
       "      <td>15</td>\n",
       "    </tr>\n",
       "  </tbody>\n",
       "</table>\n",
       "</div>"
      ],
      "text/plain": [
       "                                                Link  \\\n",
       "0  https://cdn.pixabay.com/photo/2022/03/06/05/30...   \n",
       "1  https://cdn.pixabay.com/photo/2022/04/07/11/45...   \n",
       "2  https://cdn.pixabay.com/photo/2022/02/28/15/28...   \n",
       "3  https://cdn.pixabay.com/photo/2022/04/04/02/52...   \n",
       "4  https://cdn.pixabay.com/photo/2022/04/09/18/06...   \n",
       "\n",
       "                                   Tags Likes Comments  \n",
       "0     Clouds, Sky, Atmosphere, Blue Sky   196       55  \n",
       "1        Bird, Ornithology, Hummingbird    76       20  \n",
       "2   Sea, Rainbow, Rainfall, Subtropical   282      106  \n",
       "3  Cherry Blossoms, Road, Japan, Sakura    42       11  \n",
       "4        Cape Marguerite, Flower, Plant    39       15  "
      ]
     },
     "execution_count": 67,
     "metadata": {},
     "output_type": "execute_result"
    }
   ],
   "source": [
    "df.head()"
   ]
  },
  {
   "cell_type": "code",
   "execution_count": 73,
   "id": "ddbc4ceb",
   "metadata": {},
   "outputs": [],
   "source": [
    "df=df.drop_duplicates()"
   ]
  },
  {
   "cell_type": "code",
   "execution_count": 75,
   "id": "23c75217",
   "metadata": {},
   "outputs": [
    {
     "data": {
      "text/plain": [
       "Link        0\n",
       "Tags        0\n",
       "Likes       0\n",
       "Comments    0\n",
       "dtype: int64"
      ]
     },
     "execution_count": 75,
     "metadata": {},
     "output_type": "execute_result"
    }
   ],
   "source": [
    "df.isnull().sum()"
   ]
  },
  {
   "cell_type": "code",
   "execution_count": 97,
   "id": "cdf61adc",
   "metadata": {},
   "outputs": [],
   "source": [
    "t=[]\n",
    "for tags in df['Tags']:\n",
    "    t+=[tag.strip() for tag in tags.split(',')]\n",
    "tags=list(set(t))"
   ]
  },
  {
   "cell_type": "code",
   "execution_count": 98,
   "id": "a3b7024e",
   "metadata": {},
   "outputs": [
    {
     "name": "stderr",
     "output_type": "stream",
     "text": [
      "100%|██████████| 435/435 [00:00<00:00, 5123.80it/s]\n"
     ]
    }
   ],
   "source": [
    "for tag in tqdm(tags):\n",
    "    try:\n",
    "        os.mkdir('Dataset/'+tag)\n",
    "    except:\n",
    "        pass"
   ]
  },
  {
   "cell_type": "code",
   "execution_count": 99,
   "id": "67c5ec71",
   "metadata": {},
   "outputs": [
    {
     "name": "stderr",
     "output_type": "stream",
     "text": [
      "100%|██████████| 196/196 [01:18<00:00,  2.51it/s]\n"
     ]
    }
   ],
   "source": [
    "ref=1000\n",
    "i=1\n",
    "for data in tqdm(df.values):\n",
    "    link=data[0]\n",
    "    res=requests.get(link)\n",
    "    tags=data[1]\n",
    "    tags=['Dataset/'+tag.strip()+'/' for tag in tags.split(',')]\n",
    "    imd='img'+str(i+ref)[1:]\n",
    "    i+=1\n",
    "    for tag in tags:\n",
    "        try:\n",
    "            img_path=tag+imd+'.jpg'\n",
    "            fd=open(img_path,'wb')\n",
    "            fd.write(res.content)\n",
    "            fd.close()\n",
    "        except:\n",
    "            pass"
   ]
  },
  {
   "cell_type": "code",
   "execution_count": null,
   "id": "cc6bcee1",
   "metadata": {},
   "outputs": [],
   "source": []
  }
 ],
 "metadata": {
  "kernelspec": {
   "display_name": "Python 3 (ipykernel)",
   "language": "python",
   "name": "python3"
  },
  "language_info": {
   "codemirror_mode": {
    "name": "ipython",
    "version": 3
   },
   "file_extension": ".py",
   "mimetype": "text/x-python",
   "name": "python",
   "nbconvert_exporter": "python",
   "pygments_lexer": "ipython3",
   "version": "3.11.5"
  }
 },
 "nbformat": 4,
 "nbformat_minor": 5
}
